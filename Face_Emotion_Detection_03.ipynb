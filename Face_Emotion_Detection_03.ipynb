{
  "nbformat": 4,
  "nbformat_minor": 0,
  "metadata": {
    "colab": {
      "name": "Face Emotion Detection 03.ipynb",
      "provenance": [],
      "collapsed_sections": [],
      "mount_file_id": "1JW3EESOjZ6VQCTTw8gNQAOgZ3X3ZiVj-",
      "authorship_tag": "ABX9TyNBOghwfHr9FjYPZUgk1sR+",
      "include_colab_link": true
    },
    "kernelspec": {
      "name": "python3",
      "display_name": "Python 3"
    },
    "language_info": {
      "name": "python"
    },
    "accelerator": "GPU"
  },
  "cells": [
    {
      "cell_type": "markdown",
      "metadata": {
        "id": "view-in-github",
        "colab_type": "text"
      },
      "source": [
        "<a href=\"https://colab.research.google.com/github/anisbagwan/Face-Eomotion-Detection-Anis-Bagwan/blob/main/Face_Emotion_Detection_03.ipynb\" target=\"_parent\"><img src=\"https://colab.research.google.com/assets/colab-badge.svg\" alt=\"Open In Colab\"/></a>"
      ]
    },
    {
      "cell_type": "markdown",
      "source": [
        "\n",
        "# Face Emotion Detection"
      ],
      "metadata": {
        "id": "MCZkYkh5B9yw"
      }
    },
    {
      "cell_type": "code",
      "source": [
        ""
      ],
      "metadata": {
        "id": "5aaSjYiMB5xI"
      },
      "execution_count": null,
      "outputs": []
    },
    {
      "cell_type": "code",
      "execution_count": null,
      "metadata": {
        "id": "vfI1xqud-FWM"
      },
      "outputs": [],
      "source": [
        "import matplotlib.pyplot as plt\n",
        "import numpy as np\n",
        "import scipy\n",
        "import pandas as pd"
      ]
    },
    {
      "cell_type": "code",
      "source": [
        "df = pd.read_csv('/content/drive/MyDrive/Face Emotion 1/fer2013.csv')\n"
      ],
      "metadata": {
        "id": "mAo7ZZTN-G6J"
      },
      "execution_count": null,
      "outputs": []
    },
    {
      "cell_type": "code",
      "source": [
        "df.head()"
      ],
      "metadata": {
        "colab": {
          "base_uri": "https://localhost:8080/",
          "height": 206
        },
        "id": "M8nHCNhe-dHB",
        "outputId": "c5600b67-7bd3-4530-b06a-bea6ac68c5a8"
      },
      "execution_count": null,
      "outputs": [
        {
          "output_type": "execute_result",
          "data": {
            "text/plain": [
              "   emotion                                             pixels     Usage\n",
              "0        0  70 80 82 72 58 58 60 63 54 58 60 48 89 115 121...  Training\n",
              "1        0  151 150 147 155 148 133 111 140 170 174 182 15...  Training\n",
              "2        2  231 212 156 164 174 138 161 173 182 200 106 38...  Training\n",
              "3        4  24 32 36 30 32 23 19 20 30 41 21 22 32 34 21 1...  Training\n",
              "4        6  4 0 0 0 0 0 0 0 0 0 0 0 3 15 23 28 48 50 58 84...  Training"
            ],
            "text/html": [
              "\n",
              "  <div id=\"df-97408de9-beee-4405-8483-56f72358a259\">\n",
              "    <div class=\"colab-df-container\">\n",
              "      <div>\n",
              "<style scoped>\n",
              "    .dataframe tbody tr th:only-of-type {\n",
              "        vertical-align: middle;\n",
              "    }\n",
              "\n",
              "    .dataframe tbody tr th {\n",
              "        vertical-align: top;\n",
              "    }\n",
              "\n",
              "    .dataframe thead th {\n",
              "        text-align: right;\n",
              "    }\n",
              "</style>\n",
              "<table border=\"1\" class=\"dataframe\">\n",
              "  <thead>\n",
              "    <tr style=\"text-align: right;\">\n",
              "      <th></th>\n",
              "      <th>emotion</th>\n",
              "      <th>pixels</th>\n",
              "      <th>Usage</th>\n",
              "    </tr>\n",
              "  </thead>\n",
              "  <tbody>\n",
              "    <tr>\n",
              "      <th>0</th>\n",
              "      <td>0</td>\n",
              "      <td>70 80 82 72 58 58 60 63 54 58 60 48 89 115 121...</td>\n",
              "      <td>Training</td>\n",
              "    </tr>\n",
              "    <tr>\n",
              "      <th>1</th>\n",
              "      <td>0</td>\n",
              "      <td>151 150 147 155 148 133 111 140 170 174 182 15...</td>\n",
              "      <td>Training</td>\n",
              "    </tr>\n",
              "    <tr>\n",
              "      <th>2</th>\n",
              "      <td>2</td>\n",
              "      <td>231 212 156 164 174 138 161 173 182 200 106 38...</td>\n",
              "      <td>Training</td>\n",
              "    </tr>\n",
              "    <tr>\n",
              "      <th>3</th>\n",
              "      <td>4</td>\n",
              "      <td>24 32 36 30 32 23 19 20 30 41 21 22 32 34 21 1...</td>\n",
              "      <td>Training</td>\n",
              "    </tr>\n",
              "    <tr>\n",
              "      <th>4</th>\n",
              "      <td>6</td>\n",
              "      <td>4 0 0 0 0 0 0 0 0 0 0 0 3 15 23 28 48 50 58 84...</td>\n",
              "      <td>Training</td>\n",
              "    </tr>\n",
              "  </tbody>\n",
              "</table>\n",
              "</div>\n",
              "      <button class=\"colab-df-convert\" onclick=\"convertToInteractive('df-97408de9-beee-4405-8483-56f72358a259')\"\n",
              "              title=\"Convert this dataframe to an interactive table.\"\n",
              "              style=\"display:none;\">\n",
              "        \n",
              "  <svg xmlns=\"http://www.w3.org/2000/svg\" height=\"24px\"viewBox=\"0 0 24 24\"\n",
              "       width=\"24px\">\n",
              "    <path d=\"M0 0h24v24H0V0z\" fill=\"none\"/>\n",
              "    <path d=\"M18.56 5.44l.94 2.06.94-2.06 2.06-.94-2.06-.94-.94-2.06-.94 2.06-2.06.94zm-11 1L8.5 8.5l.94-2.06 2.06-.94-2.06-.94L8.5 2.5l-.94 2.06-2.06.94zm10 10l.94 2.06.94-2.06 2.06-.94-2.06-.94-.94-2.06-.94 2.06-2.06.94z\"/><path d=\"M17.41 7.96l-1.37-1.37c-.4-.4-.92-.59-1.43-.59-.52 0-1.04.2-1.43.59L10.3 9.45l-7.72 7.72c-.78.78-.78 2.05 0 2.83L4 21.41c.39.39.9.59 1.41.59.51 0 1.02-.2 1.41-.59l7.78-7.78 2.81-2.81c.8-.78.8-2.07 0-2.86zM5.41 20L4 18.59l7.72-7.72 1.47 1.35L5.41 20z\"/>\n",
              "  </svg>\n",
              "      </button>\n",
              "      \n",
              "  <style>\n",
              "    .colab-df-container {\n",
              "      display:flex;\n",
              "      flex-wrap:wrap;\n",
              "      gap: 12px;\n",
              "    }\n",
              "\n",
              "    .colab-df-convert {\n",
              "      background-color: #E8F0FE;\n",
              "      border: none;\n",
              "      border-radius: 50%;\n",
              "      cursor: pointer;\n",
              "      display: none;\n",
              "      fill: #1967D2;\n",
              "      height: 32px;\n",
              "      padding: 0 0 0 0;\n",
              "      width: 32px;\n",
              "    }\n",
              "\n",
              "    .colab-df-convert:hover {\n",
              "      background-color: #E2EBFA;\n",
              "      box-shadow: 0px 1px 2px rgba(60, 64, 67, 0.3), 0px 1px 3px 1px rgba(60, 64, 67, 0.15);\n",
              "      fill: #174EA6;\n",
              "    }\n",
              "\n",
              "    [theme=dark] .colab-df-convert {\n",
              "      background-color: #3B4455;\n",
              "      fill: #D2E3FC;\n",
              "    }\n",
              "\n",
              "    [theme=dark] .colab-df-convert:hover {\n",
              "      background-color: #434B5C;\n",
              "      box-shadow: 0px 1px 3px 1px rgba(0, 0, 0, 0.15);\n",
              "      filter: drop-shadow(0px 1px 2px rgba(0, 0, 0, 0.3));\n",
              "      fill: #FFFFFF;\n",
              "    }\n",
              "  </style>\n",
              "\n",
              "      <script>\n",
              "        const buttonEl =\n",
              "          document.querySelector('#df-97408de9-beee-4405-8483-56f72358a259 button.colab-df-convert');\n",
              "        buttonEl.style.display =\n",
              "          google.colab.kernel.accessAllowed ? 'block' : 'none';\n",
              "\n",
              "        async function convertToInteractive(key) {\n",
              "          const element = document.querySelector('#df-97408de9-beee-4405-8483-56f72358a259');\n",
              "          const dataTable =\n",
              "            await google.colab.kernel.invokeFunction('convertToInteractive',\n",
              "                                                     [key], {});\n",
              "          if (!dataTable) return;\n",
              "\n",
              "          const docLinkHtml = 'Like what you see? Visit the ' +\n",
              "            '<a target=\"_blank\" href=https://colab.research.google.com/notebooks/data_table.ipynb>data table notebook</a>'\n",
              "            + ' to learn more about interactive tables.';\n",
              "          element.innerHTML = '';\n",
              "          dataTable['output_type'] = 'display_data';\n",
              "          await google.colab.output.renderOutput(dataTable, element);\n",
              "          const docLink = document.createElement('div');\n",
              "          docLink.innerHTML = docLinkHtml;\n",
              "          element.appendChild(docLink);\n",
              "        }\n",
              "      </script>\n",
              "    </div>\n",
              "  </div>\n",
              "  "
            ]
          },
          "metadata": {},
          "execution_count": 4
        }
      ]
    },
    {
      "cell_type": "code",
      "source": [
        "X_train = []\n",
        "y_train = []\n",
        "X_test = []\n",
        "y_test = []\n",
        "for index, row in df.iterrows():\n",
        "    k = row['pixels'].split(\" \")\n",
        "    if row['Usage'] == 'Training':\n",
        "        X_train.append(np.array(k))\n",
        "        y_train.append(row['emotion'])\n",
        "    elif row['Usage'] == 'PublicTest':\n",
        "        X_test.append(np.array(k))\n",
        "        y_test.append(row['emotion'])"
      ],
      "metadata": {
        "id": "SFT-k0Bj-g21"
      },
      "execution_count": null,
      "outputs": []
    },
    {
      "cell_type": "code",
      "source": [
        "\n",
        "X_train = np.array(X_train, dtype = 'uint8')\n",
        "y_train = np.array(y_train, dtype = 'uint8')\n",
        "X_test = np.array(X_test, dtype = 'uint8')\n",
        "y_test = np.array(y_test, dtype = 'uint8')"
      ],
      "metadata": {
        "id": "4ANJfvOc-skk"
      },
      "execution_count": null,
      "outputs": []
    },
    {
      "cell_type": "code",
      "source": [
        "import keras\n",
        "from tensorflow.keras.utils import to_categorical\n",
        "y_train= to_categorical(y_train, num_classes=7)\n",
        "y_test = to_categorical(y_test, num_classes=7)"
      ],
      "metadata": {
        "id": "Nm36vsXh-z2G"
      },
      "execution_count": null,
      "outputs": []
    },
    {
      "cell_type": "code",
      "source": [
        "X_train = X_train.reshape(X_train.shape[0], 48, 48, 1)\n",
        "X_test = X_test.reshape(X_test.shape[0], 48, 48, 1)"
      ],
      "metadata": {
        "id": "6ms1ypdI_T9P"
      },
      "execution_count": null,
      "outputs": []
    },
    {
      "cell_type": "code",
      "source": [
        "from keras.preprocessing.image import ImageDataGenerator \n",
        "datagen = ImageDataGenerator( \n",
        "    rescale=1./255,\n",
        "    rotation_range = 10,\n",
        "    horizontal_flip = True,\n",
        "    width_shift_range=0.1,\n",
        "    height_shift_range=0.1,\n",
        "    fill_mode = 'nearest')"
      ],
      "metadata": {
        "id": "cnPkDKGQ_nH_"
      },
      "execution_count": null,
      "outputs": []
    },
    {
      "cell_type": "code",
      "source": [
        "testgen = ImageDataGenerator(rescale=1./255)\n",
        "datagen.fit(X_train)"
      ],
      "metadata": {
        "id": "i-H3EVvh_wA3"
      },
      "execution_count": null,
      "outputs": []
    },
    {
      "cell_type": "code",
      "source": [
        "batch_size = 64"
      ],
      "metadata": {
        "id": "H5kepIit_011"
      },
      "execution_count": null,
      "outputs": []
    },
    {
      "cell_type": "code",
      "source": [
        "train_flow = datagen.flow(X_train, y_train, batch_size=batch_size) \n",
        "test_flow = testgen.flow(X_test, y_test, batch_size=batch_size)"
      ],
      "metadata": {
        "id": "3q18H10e_3h2"
      },
      "execution_count": null,
      "outputs": []
    },
    {
      "cell_type": "code",
      "source": [
        "from keras.utils.vis_utils import plot_model\n",
        "from keras.models import Model\n",
        "from keras.layers import Input, Dense, Flatten, Dropout, BatchNormalization\n",
        "from keras.layers.convolutional import Conv2D\n",
        "from keras.layers.pooling import MaxPooling2D\n",
        "from keras.layers.merge import concatenate\n",
        "from tensorflow.keras.optimizers import Adam, SGD\n",
        "from keras.regularizers import l1, l2\n",
        "from matplotlib import pyplot as plt\n",
        "from sklearn.metrics import confusion_matrix"
      ],
      "metadata": {
        "id": "Bc3z9OhxAEcS"
      },
      "execution_count": null,
      "outputs": []
    },
    {
      "cell_type": "code",
      "source": [
        "def FER_Model(input_shape=(48,48,1)):\n",
        "    # first input model\n",
        "    visible = Input(shape=input_shape, name='input')\n",
        "    num_classes = 7\n",
        "    #the 1-st block\n",
        "    conv1_1 = Conv2D(64, kernel_size=3, activation='relu', padding='same', name = 'conv1_1')(visible)\n",
        "    conv1_1 = BatchNormalization()(conv1_1)\n",
        "    conv1_2 = Conv2D(64, kernel_size=3, activation='relu', padding='same', name = 'conv1_2')(conv1_1)\n",
        "    conv1_2 = BatchNormalization()(conv1_2)\n",
        "    pool1_1 = MaxPooling2D(pool_size=(2,2), name = 'pool1_1')(conv1_2)\n",
        "    drop1_1 = Dropout(0.3, name = 'drop1_1')(pool1_1)#the 2-nd block\n",
        "    conv2_1 = Conv2D(128, kernel_size=3, activation='relu', padding='same', name = 'conv2_1')(drop1_1)\n",
        "    conv2_1 = BatchNormalization()(conv2_1)\n",
        "    conv2_2 = Conv2D(128, kernel_size=3, activation='relu', padding='same', name = 'conv2_2')(conv2_1)\n",
        "    conv2_2 = BatchNormalization()(conv2_2)\n",
        "    conv2_3 = Conv2D(128, kernel_size=3, activation='relu', padding='same', name = 'conv2_3')(conv2_2)\n",
        "    conv2_2 = BatchNormalization()(conv2_3)\n",
        "    pool2_1 = MaxPooling2D(pool_size=(2,2), name = 'pool2_1')(conv2_3)\n",
        "    drop2_1 = Dropout(0.3, name = 'drop2_1')(pool2_1)#the 3-rd block\n",
        "    conv3_1 = Conv2D(256, kernel_size=3, activation='relu', padding='same', name = 'conv3_1')(drop2_1)\n",
        "    conv3_1 = BatchNormalization()(conv3_1)\n",
        "    conv3_2 = Conv2D(256, kernel_size=3, activation='relu', padding='same', name = 'conv3_2')(conv3_1)\n",
        "    conv3_2 = BatchNormalization()(conv3_2)\n",
        "    conv3_3 = Conv2D(256, kernel_size=3, activation='relu', padding='same', name = 'conv3_3')(conv3_2)\n",
        "    conv3_3 = BatchNormalization()(conv3_3)\n",
        "    conv3_4 = Conv2D(256, kernel_size=3, activation='relu', padding='same', name = 'conv3_4')(conv3_3)\n",
        "    conv3_4 = BatchNormalization()(conv3_4)\n",
        "    pool3_1 = MaxPooling2D(pool_size=(2,2), name = 'pool3_1')(conv3_4)\n",
        "    drop3_1 = Dropout(0.3, name = 'drop3_1')(pool3_1)#the 4-th block\n",
        "    conv4_1 = Conv2D(256, kernel_size=3, activation='relu', padding='same', name = 'conv4_1')(drop3_1)\n",
        "    conv4_1 = BatchNormalization()(conv4_1)\n",
        "    conv4_2 = Conv2D(256, kernel_size=3, activation='relu', padding='same', name = 'conv4_2')(conv4_1)\n",
        "    conv4_2 = BatchNormalization()(conv4_2)\n",
        "    conv4_3 = Conv2D(256, kernel_size=3, activation='relu', padding='same', name = 'conv4_3')(conv4_2)\n",
        "    conv4_3 = BatchNormalization()(conv4_3)\n",
        "    conv4_4 = Conv2D(256, kernel_size=3, activation='relu', padding='same', name = 'conv4_4')(conv4_3)\n",
        "    conv4_4 = BatchNormalization()(conv4_4)\n",
        "    pool4_1 = MaxPooling2D(pool_size=(2,2), name = 'pool4_1')(conv4_4)\n",
        "    drop4_1 = Dropout(0.3, name = 'drop4_1')(pool4_1)\n",
        "    \n",
        "    #the 5-th block\n",
        "    conv5_1 = Conv2D(512, kernel_size=3, activation='relu', padding='same', name = 'conv5_1')(drop4_1)\n",
        "    conv5_1 = BatchNormalization()(conv5_1)\n",
        "    conv5_2 = Conv2D(512, kernel_size=3, activation='relu', padding='same', name = 'conv5_2')(conv5_1)\n",
        "    conv5_2 = BatchNormalization()(conv5_2)\n",
        "    conv5_3 = Conv2D(512, kernel_size=3, activation='relu', padding='same', name = 'conv5_3')(conv5_2)\n",
        "    conv5_3 = BatchNormalization()(conv5_3)\n",
        "    conv5_4 = Conv2D(512, kernel_size=3, activation='relu', padding='same', name = 'conv5_4')(conv5_3)\n",
        "    conv5_3 = BatchNormalization()(conv5_3)\n",
        "    pool5_1 = MaxPooling2D(pool_size=(2,2), name = 'pool5_1')(conv5_4)\n",
        "    drop5_1 = Dropout(0.3, name = 'drop5_1')(pool5_1)#Flatten and output\n",
        "    flatten = Flatten(name = 'flatten')(drop5_1)\n",
        "    ouput = Dense(num_classes, activation='softmax', name = 'output')(flatten)# create model \n",
        "    model = Model(inputs =visible, outputs = ouput)\n",
        "    # summary layers\n",
        "    print(model.summary())\n",
        "    \n",
        "    return model"
      ],
      "metadata": {
        "id": "AIuIZm2DAODF"
      },
      "execution_count": null,
      "outputs": []
    },
    {
      "cell_type": "code",
      "source": [
        "model = FER_Model()\n",
        "opt = Adam(lr=0.0001, decay=1e-6)\n",
        "model.compile(loss='categorical_crossentropy', optimizer=opt, metrics=['accuracy'])"
      ],
      "metadata": {
        "colab": {
          "base_uri": "https://localhost:8080/"
        },
        "id": "VlroPeo9AnSS",
        "outputId": "6f58c365-d177-4bfd-d0e2-b6394587c094"
      },
      "execution_count": null,
      "outputs": [
        {
          "output_type": "stream",
          "name": "stdout",
          "text": [
            "Model: \"model\"\n",
            "_________________________________________________________________\n",
            " Layer (type)                Output Shape              Param #   \n",
            "=================================================================\n",
            " input (InputLayer)          [(None, 48, 48, 1)]       0         \n",
            "                                                                 \n",
            " conv1_1 (Conv2D)            (None, 48, 48, 64)        640       \n",
            "                                                                 \n",
            " batch_normalization (BatchN  (None, 48, 48, 64)       256       \n",
            " ormalization)                                                   \n",
            "                                                                 \n",
            " conv1_2 (Conv2D)            (None, 48, 48, 64)        36928     \n",
            "                                                                 \n",
            " batch_normalization_1 (Batc  (None, 48, 48, 64)       256       \n",
            " hNormalization)                                                 \n",
            "                                                                 \n",
            " pool1_1 (MaxPooling2D)      (None, 24, 24, 64)        0         \n",
            "                                                                 \n",
            " drop1_1 (Dropout)           (None, 24, 24, 64)        0         \n",
            "                                                                 \n",
            " conv2_1 (Conv2D)            (None, 24, 24, 128)       73856     \n",
            "                                                                 \n",
            " batch_normalization_2 (Batc  (None, 24, 24, 128)      512       \n",
            " hNormalization)                                                 \n",
            "                                                                 \n",
            " conv2_2 (Conv2D)            (None, 24, 24, 128)       147584    \n",
            "                                                                 \n",
            " batch_normalization_3 (Batc  (None, 24, 24, 128)      512       \n",
            " hNormalization)                                                 \n",
            "                                                                 \n",
            " conv2_3 (Conv2D)            (None, 24, 24, 128)       147584    \n",
            "                                                                 \n",
            " pool2_1 (MaxPooling2D)      (None, 12, 12, 128)       0         \n",
            "                                                                 \n",
            " drop2_1 (Dropout)           (None, 12, 12, 128)       0         \n",
            "                                                                 \n",
            " conv3_1 (Conv2D)            (None, 12, 12, 256)       295168    \n",
            "                                                                 \n",
            " batch_normalization_5 (Batc  (None, 12, 12, 256)      1024      \n",
            " hNormalization)                                                 \n",
            "                                                                 \n",
            " conv3_2 (Conv2D)            (None, 12, 12, 256)       590080    \n",
            "                                                                 \n",
            " batch_normalization_6 (Batc  (None, 12, 12, 256)      1024      \n",
            " hNormalization)                                                 \n",
            "                                                                 \n",
            " conv3_3 (Conv2D)            (None, 12, 12, 256)       590080    \n",
            "                                                                 \n",
            " batch_normalization_7 (Batc  (None, 12, 12, 256)      1024      \n",
            " hNormalization)                                                 \n",
            "                                                                 \n",
            " conv3_4 (Conv2D)            (None, 12, 12, 256)       590080    \n",
            "                                                                 \n",
            " batch_normalization_8 (Batc  (None, 12, 12, 256)      1024      \n",
            " hNormalization)                                                 \n",
            "                                                                 \n",
            " pool3_1 (MaxPooling2D)      (None, 6, 6, 256)         0         \n",
            "                                                                 \n",
            " drop3_1 (Dropout)           (None, 6, 6, 256)         0         \n",
            "                                                                 \n",
            " conv4_1 (Conv2D)            (None, 6, 6, 256)         590080    \n",
            "                                                                 \n",
            " batch_normalization_9 (Batc  (None, 6, 6, 256)        1024      \n",
            " hNormalization)                                                 \n",
            "                                                                 \n",
            " conv4_2 (Conv2D)            (None, 6, 6, 256)         590080    \n",
            "                                                                 \n",
            " batch_normalization_10 (Bat  (None, 6, 6, 256)        1024      \n",
            " chNormalization)                                                \n",
            "                                                                 \n",
            " conv4_3 (Conv2D)            (None, 6, 6, 256)         590080    \n",
            "                                                                 \n",
            " batch_normalization_11 (Bat  (None, 6, 6, 256)        1024      \n",
            " chNormalization)                                                \n",
            "                                                                 \n",
            " conv4_4 (Conv2D)            (None, 6, 6, 256)         590080    \n",
            "                                                                 \n",
            " batch_normalization_12 (Bat  (None, 6, 6, 256)        1024      \n",
            " chNormalization)                                                \n",
            "                                                                 \n",
            " pool4_1 (MaxPooling2D)      (None, 3, 3, 256)         0         \n",
            "                                                                 \n",
            " drop4_1 (Dropout)           (None, 3, 3, 256)         0         \n",
            "                                                                 \n",
            " conv5_1 (Conv2D)            (None, 3, 3, 512)         1180160   \n",
            "                                                                 \n",
            " batch_normalization_13 (Bat  (None, 3, 3, 512)        2048      \n",
            " chNormalization)                                                \n",
            "                                                                 \n",
            " conv5_2 (Conv2D)            (None, 3, 3, 512)         2359808   \n",
            "                                                                 \n",
            " batch_normalization_14 (Bat  (None, 3, 3, 512)        2048      \n",
            " chNormalization)                                                \n",
            "                                                                 \n",
            " conv5_3 (Conv2D)            (None, 3, 3, 512)         2359808   \n",
            "                                                                 \n",
            " batch_normalization_15 (Bat  (None, 3, 3, 512)        2048      \n",
            " chNormalization)                                                \n",
            "                                                                 \n",
            " conv5_4 (Conv2D)            (None, 3, 3, 512)         2359808   \n",
            "                                                                 \n",
            " pool5_1 (MaxPooling2D)      (None, 1, 1, 512)         0         \n",
            "                                                                 \n",
            " drop5_1 (Dropout)           (None, 1, 1, 512)         0         \n",
            "                                                                 \n",
            " flatten (Flatten)           (None, 512)               0         \n",
            "                                                                 \n",
            " output (Dense)              (None, 7)                 3591      \n",
            "                                                                 \n",
            "=================================================================\n",
            "Total params: 13,111,367\n",
            "Trainable params: 13,103,431\n",
            "Non-trainable params: 7,936\n",
            "_________________________________________________________________\n",
            "None\n"
          ]
        },
        {
          "output_type": "stream",
          "name": "stderr",
          "text": [
            "/usr/local/lib/python3.7/dist-packages/keras/optimizer_v2/adam.py:105: UserWarning: The `lr` argument is deprecated, use `learning_rate` instead.\n",
            "  super(Adam, self).__init__(name, **kwargs)\n"
          ]
        }
      ]
    },
    {
      "cell_type": "code",
      "source": [
        "num_epochs = 100  \n",
        "history = model.fit_generator(train_flow, \n",
        "                    steps_per_epoch=len(X_train) / batch_size, \n",
        "                    epochs=num_epochs,  \n",
        "                    verbose=1,  \n",
        "                    validation_data=test_flow,\n",
        "                    validation_steps=len(X_test) / batch_size)"
      ],
      "metadata": {
        "colab": {
          "base_uri": "https://localhost:8080/"
        },
        "id": "_zeagFwfAuyc",
        "outputId": "dfb42c92-4cb0-47fd-d3fa-9dce496d5a32"
      },
      "execution_count": null,
      "outputs": [
        {
          "output_type": "stream",
          "name": "stdout",
          "text": [
            "Epoch 1/100\n"
          ]
        },
        {
          "output_type": "stream",
          "name": "stderr",
          "text": [
            "/usr/local/lib/python3.7/dist-packages/ipykernel_launcher.py:7: UserWarning: `Model.fit_generator` is deprecated and will be removed in a future version. Please use `Model.fit`, which supports generators.\n",
            "  import sys\n"
          ]
        },
        {
          "output_type": "stream",
          "name": "stdout",
          "text": [
            "448/448 [==============================] - 46s 73ms/step - loss: 2.0199 - accuracy: 0.2172 - val_loss: 1.8964 - val_accuracy: 0.2488\n",
            "Epoch 2/100\n",
            "448/448 [==============================] - 31s 70ms/step - loss: 1.7859 - accuracy: 0.2502 - val_loss: 1.8509 - val_accuracy: 0.2499\n",
            "Epoch 3/100\n",
            "448/448 [==============================] - 32s 70ms/step - loss: 1.7522 - accuracy: 0.2774 - val_loss: 1.7685 - val_accuracy: 0.2917\n",
            "Epoch 4/100\n",
            "448/448 [==============================] - 32s 72ms/step - loss: 1.6844 - accuracy: 0.3220 - val_loss: 2.1385 - val_accuracy: 0.3201\n",
            "Epoch 5/100\n",
            "448/448 [==============================] - 32s 72ms/step - loss: 1.6130 - accuracy: 0.3660 - val_loss: 1.5586 - val_accuracy: 0.3954\n",
            "Epoch 6/100\n",
            "448/448 [==============================] - 32s 72ms/step - loss: 1.5452 - accuracy: 0.3999 - val_loss: 1.4777 - val_accuracy: 0.4316\n",
            "Epoch 7/100\n",
            "448/448 [==============================] - 32s 72ms/step - loss: 1.4829 - accuracy: 0.4260 - val_loss: 1.4348 - val_accuracy: 0.4634\n",
            "Epoch 8/100\n",
            "448/448 [==============================] - 32s 72ms/step - loss: 1.4224 - accuracy: 0.4520 - val_loss: 1.3522 - val_accuracy: 0.4918\n",
            "Epoch 9/100\n",
            "448/448 [==============================] - 32s 72ms/step - loss: 1.3645 - accuracy: 0.4747 - val_loss: 1.3168 - val_accuracy: 0.5004\n",
            "Epoch 10/100\n",
            "448/448 [==============================] - 32s 72ms/step - loss: 1.3103 - accuracy: 0.4987 - val_loss: 1.3246 - val_accuracy: 0.5146\n",
            "Epoch 11/100\n",
            "448/448 [==============================] - 32s 72ms/step - loss: 1.2656 - accuracy: 0.5180 - val_loss: 1.2382 - val_accuracy: 0.5300\n",
            "Epoch 12/100\n",
            "448/448 [==============================] - 33s 73ms/step - loss: 1.2311 - accuracy: 0.5299 - val_loss: 1.2306 - val_accuracy: 0.5350\n",
            "Epoch 13/100\n",
            "448/448 [==============================] - 32s 72ms/step - loss: 1.1935 - accuracy: 0.5460 - val_loss: 1.1777 - val_accuracy: 0.5467\n",
            "Epoch 14/100\n",
            "448/448 [==============================] - 32s 72ms/step - loss: 1.1659 - accuracy: 0.5599 - val_loss: 1.1405 - val_accuracy: 0.5745\n",
            "Epoch 15/100\n",
            "448/448 [==============================] - 32s 72ms/step - loss: 1.1430 - accuracy: 0.5638 - val_loss: 1.1560 - val_accuracy: 0.5564\n",
            "Epoch 16/100\n",
            "448/448 [==============================] - 32s 72ms/step - loss: 1.1199 - accuracy: 0.5775 - val_loss: 1.1139 - val_accuracy: 0.5782\n",
            "Epoch 17/100\n",
            "448/448 [==============================] - 32s 72ms/step - loss: 1.0928 - accuracy: 0.5883 - val_loss: 1.1274 - val_accuracy: 0.5720\n",
            "Epoch 18/100\n",
            "448/448 [==============================] - 32s 72ms/step - loss: 1.0740 - accuracy: 0.5968 - val_loss: 1.0620 - val_accuracy: 0.6013\n",
            "Epoch 19/100\n",
            "448/448 [==============================] - 32s 72ms/step - loss: 1.0526 - accuracy: 0.6040 - val_loss: 1.0701 - val_accuracy: 0.6105\n",
            "Epoch 20/100\n",
            "448/448 [==============================] - 33s 73ms/step - loss: 1.0356 - accuracy: 0.6105 - val_loss: 1.0828 - val_accuracy: 0.6094\n",
            "Epoch 21/100\n",
            "448/448 [==============================] - 32s 72ms/step - loss: 1.0143 - accuracy: 0.6196 - val_loss: 1.0679 - val_accuracy: 0.6121\n",
            "Epoch 22/100\n",
            "448/448 [==============================] - 32s 72ms/step - loss: 1.0002 - accuracy: 0.6237 - val_loss: 1.0350 - val_accuracy: 0.6163\n",
            "Epoch 23/100\n",
            "448/448 [==============================] - 32s 72ms/step - loss: 0.9859 - accuracy: 0.6298 - val_loss: 1.0258 - val_accuracy: 0.6119\n",
            "Epoch 24/100\n",
            "448/448 [==============================] - 32s 72ms/step - loss: 0.9737 - accuracy: 0.6336 - val_loss: 1.0227 - val_accuracy: 0.6163\n",
            "Epoch 25/100\n",
            "448/448 [==============================] - 32s 72ms/step - loss: 0.9557 - accuracy: 0.6435 - val_loss: 0.9985 - val_accuracy: 0.6364\n",
            "Epoch 26/100\n",
            "448/448 [==============================] - 32s 72ms/step - loss: 0.9360 - accuracy: 0.6497 - val_loss: 0.9992 - val_accuracy: 0.6328\n",
            "Epoch 27/100\n",
            "448/448 [==============================] - 33s 73ms/step - loss: 0.9268 - accuracy: 0.6532 - val_loss: 1.0366 - val_accuracy: 0.6303\n",
            "Epoch 28/100\n",
            "448/448 [==============================] - 32s 72ms/step - loss: 0.9097 - accuracy: 0.6568 - val_loss: 1.0603 - val_accuracy: 0.6141\n",
            "Epoch 29/100\n",
            "448/448 [==============================] - 32s 72ms/step - loss: 0.8994 - accuracy: 0.6635 - val_loss: 1.0186 - val_accuracy: 0.6272\n",
            "Epoch 30/100\n",
            "448/448 [==============================] - 32s 72ms/step - loss: 0.8852 - accuracy: 0.6701 - val_loss: 0.9852 - val_accuracy: 0.6420\n",
            "Epoch 31/100\n",
            "448/448 [==============================] - 32s 72ms/step - loss: 0.8753 - accuracy: 0.6719 - val_loss: 0.9783 - val_accuracy: 0.6450\n",
            "Epoch 32/100\n",
            "448/448 [==============================] - 32s 72ms/step - loss: 0.8634 - accuracy: 0.6775 - val_loss: 0.9985 - val_accuracy: 0.6261\n",
            "Epoch 33/100\n",
            "448/448 [==============================] - 32s 72ms/step - loss: 0.8508 - accuracy: 0.6846 - val_loss: 1.0006 - val_accuracy: 0.6314\n",
            "Epoch 34/100\n",
            "448/448 [==============================] - 33s 73ms/step - loss: 0.8422 - accuracy: 0.6872 - val_loss: 0.9888 - val_accuracy: 0.6297\n",
            "Epoch 35/100\n",
            "448/448 [==============================] - 32s 72ms/step - loss: 0.8266 - accuracy: 0.6879 - val_loss: 0.9748 - val_accuracy: 0.6506\n",
            "Epoch 36/100\n",
            "448/448 [==============================] - 32s 72ms/step - loss: 0.8207 - accuracy: 0.6938 - val_loss: 1.0458 - val_accuracy: 0.6322\n",
            "Epoch 37/100\n",
            "448/448 [==============================] - 32s 72ms/step - loss: 0.8043 - accuracy: 0.6991 - val_loss: 1.0328 - val_accuracy: 0.6289\n",
            "Epoch 38/100\n",
            "448/448 [==============================] - 32s 72ms/step - loss: 0.7882 - accuracy: 0.7037 - val_loss: 0.9788 - val_accuracy: 0.6461\n",
            "Epoch 39/100\n",
            "448/448 [==============================] - 32s 72ms/step - loss: 0.7819 - accuracy: 0.7074 - val_loss: 0.9766 - val_accuracy: 0.6481\n",
            "Epoch 40/100\n",
            "448/448 [==============================] - 32s 72ms/step - loss: 0.7692 - accuracy: 0.7156 - val_loss: 0.9680 - val_accuracy: 0.6573\n",
            "Epoch 41/100\n",
            "448/448 [==============================] - 32s 72ms/step - loss: 0.7569 - accuracy: 0.7138 - val_loss: 0.9877 - val_accuracy: 0.6498\n",
            "Epoch 42/100\n",
            "448/448 [==============================] - 32s 72ms/step - loss: 0.7478 - accuracy: 0.7171 - val_loss: 0.9712 - val_accuracy: 0.6620\n",
            "Epoch 43/100\n",
            "448/448 [==============================] - 33s 73ms/step - loss: 0.7371 - accuracy: 0.7242 - val_loss: 1.0083 - val_accuracy: 0.6428\n",
            "Epoch 44/100\n",
            "448/448 [==============================] - 32s 72ms/step - loss: 0.7269 - accuracy: 0.7262 - val_loss: 1.0071 - val_accuracy: 0.6590\n",
            "Epoch 45/100\n",
            "448/448 [==============================] - 32s 72ms/step - loss: 0.7141 - accuracy: 0.7335 - val_loss: 1.0304 - val_accuracy: 0.6500\n",
            "Epoch 46/100\n",
            "448/448 [==============================] - 32s 72ms/step - loss: 0.7042 - accuracy: 0.7376 - val_loss: 0.9651 - val_accuracy: 0.6570\n",
            "Epoch 47/100\n",
            "448/448 [==============================] - 33s 73ms/step - loss: 0.6907 - accuracy: 0.7434 - val_loss: 0.9814 - val_accuracy: 0.6590\n",
            "Epoch 48/100\n",
            "448/448 [==============================] - 32s 72ms/step - loss: 0.6795 - accuracy: 0.7483 - val_loss: 1.0240 - val_accuracy: 0.6595\n",
            "Epoch 49/100\n",
            "448/448 [==============================] - 33s 73ms/step - loss: 0.6750 - accuracy: 0.7493 - val_loss: 0.9776 - val_accuracy: 0.6609\n",
            "Epoch 50/100\n",
            "448/448 [==============================] - 33s 73ms/step - loss: 0.6610 - accuracy: 0.7541 - val_loss: 1.0064 - val_accuracy: 0.6581\n",
            "Epoch 51/100\n",
            "448/448 [==============================] - 32s 72ms/step - loss: 0.6518 - accuracy: 0.7590 - val_loss: 1.0302 - val_accuracy: 0.6556\n",
            "Epoch 52/100\n",
            "448/448 [==============================] - 33s 73ms/step - loss: 0.6443 - accuracy: 0.7582 - val_loss: 0.9998 - val_accuracy: 0.6617\n",
            "Epoch 53/100\n",
            "448/448 [==============================] - 33s 73ms/step - loss: 0.6323 - accuracy: 0.7643 - val_loss: 1.0439 - val_accuracy: 0.6617\n",
            "Epoch 54/100\n",
            "448/448 [==============================] - 33s 73ms/step - loss: 0.6288 - accuracy: 0.7667 - val_loss: 1.0369 - val_accuracy: 0.6542\n",
            "Epoch 55/100\n",
            "448/448 [==============================] - 33s 73ms/step - loss: 0.6144 - accuracy: 0.7723 - val_loss: 0.9917 - val_accuracy: 0.6712\n",
            "Epoch 56/100\n",
            "448/448 [==============================] - 33s 73ms/step - loss: 0.6075 - accuracy: 0.7757 - val_loss: 1.0514 - val_accuracy: 0.6528\n",
            "Epoch 57/100\n",
            "448/448 [==============================] - 33s 73ms/step - loss: 0.5938 - accuracy: 0.7819 - val_loss: 1.0647 - val_accuracy: 0.6612\n",
            "Epoch 58/100\n",
            "448/448 [==============================] - 33s 72ms/step - loss: 0.5894 - accuracy: 0.7836 - val_loss: 1.0291 - val_accuracy: 0.6673\n",
            "Epoch 59/100\n",
            "448/448 [==============================] - 33s 73ms/step - loss: 0.5740 - accuracy: 0.7876 - val_loss: 1.0350 - val_accuracy: 0.6606\n",
            "Epoch 60/100\n",
            "448/448 [==============================] - 33s 73ms/step - loss: 0.5673 - accuracy: 0.7886 - val_loss: 1.0404 - val_accuracy: 0.6662\n",
            "Epoch 61/100\n",
            "448/448 [==============================] - 33s 73ms/step - loss: 0.5578 - accuracy: 0.7928 - val_loss: 1.1044 - val_accuracy: 0.6592\n",
            "Epoch 62/100\n",
            "448/448 [==============================] - 33s 72ms/step - loss: 0.5525 - accuracy: 0.7964 - val_loss: 1.0800 - val_accuracy: 0.6701\n",
            "Epoch 63/100\n",
            "448/448 [==============================] - 33s 73ms/step - loss: 0.5397 - accuracy: 0.7996 - val_loss: 1.0951 - val_accuracy: 0.6517\n",
            "Epoch 64/100\n",
            "448/448 [==============================] - 33s 73ms/step - loss: 0.5375 - accuracy: 0.7996 - val_loss: 1.0805 - val_accuracy: 0.6662\n",
            "Epoch 65/100\n",
            "448/448 [==============================] - 33s 73ms/step - loss: 0.5236 - accuracy: 0.8070 - val_loss: 1.1117 - val_accuracy: 0.6709\n",
            "Epoch 66/100\n",
            "448/448 [==============================] - 33s 73ms/step - loss: 0.5146 - accuracy: 0.8088 - val_loss: 1.1460 - val_accuracy: 0.6631\n",
            "Epoch 67/100\n",
            "448/448 [==============================] - 33s 73ms/step - loss: 0.5050 - accuracy: 0.8150 - val_loss: 1.0762 - val_accuracy: 0.6715\n",
            "Epoch 68/100\n",
            "448/448 [==============================] - 33s 73ms/step - loss: 0.4987 - accuracy: 0.8142 - val_loss: 1.1219 - val_accuracy: 0.6643\n",
            "Epoch 69/100\n",
            "448/448 [==============================] - 33s 73ms/step - loss: 0.4905 - accuracy: 0.8176 - val_loss: 1.0920 - val_accuracy: 0.6826\n",
            "Epoch 70/100\n",
            "448/448 [==============================] - 33s 73ms/step - loss: 0.4878 - accuracy: 0.8185 - val_loss: 1.1329 - val_accuracy: 0.6682\n",
            "Epoch 71/100\n",
            "448/448 [==============================] - 33s 73ms/step - loss: 0.4818 - accuracy: 0.8209 - val_loss: 1.1408 - val_accuracy: 0.6709\n",
            "Epoch 72/100\n",
            "448/448 [==============================] - 33s 73ms/step - loss: 0.4725 - accuracy: 0.8234 - val_loss: 1.1575 - val_accuracy: 0.6654\n",
            "Epoch 73/100\n",
            "448/448 [==============================] - 33s 73ms/step - loss: 0.4580 - accuracy: 0.8303 - val_loss: 1.1157 - val_accuracy: 0.6709\n",
            "Epoch 74/100\n",
            "448/448 [==============================] - 33s 73ms/step - loss: 0.4604 - accuracy: 0.8297 - val_loss: 1.1472 - val_accuracy: 0.6598\n",
            "Epoch 75/100\n",
            "448/448 [==============================] - 33s 72ms/step - loss: 0.4502 - accuracy: 0.8319 - val_loss: 1.1617 - val_accuracy: 0.6782\n",
            "Epoch 76/100\n",
            "448/448 [==============================] - 33s 73ms/step - loss: 0.4439 - accuracy: 0.8363 - val_loss: 1.1914 - val_accuracy: 0.6838\n",
            "Epoch 77/100\n",
            "448/448 [==============================] - 33s 73ms/step - loss: 0.4345 - accuracy: 0.8386 - val_loss: 1.2047 - val_accuracy: 0.6637\n",
            "Epoch 78/100\n",
            "448/448 [==============================] - 33s 72ms/step - loss: 0.4224 - accuracy: 0.8444 - val_loss: 1.1835 - val_accuracy: 0.6768\n",
            "Epoch 79/100\n",
            "448/448 [==============================] - 33s 73ms/step - loss: 0.4209 - accuracy: 0.8412 - val_loss: 1.1882 - val_accuracy: 0.6676\n",
            "Epoch 80/100\n",
            "448/448 [==============================] - 33s 73ms/step - loss: 0.4137 - accuracy: 0.8491 - val_loss: 1.1782 - val_accuracy: 0.6690\n",
            "Epoch 81/100\n",
            "448/448 [==============================] - 33s 73ms/step - loss: 0.4026 - accuracy: 0.8504 - val_loss: 1.2468 - val_accuracy: 0.6737\n",
            "Epoch 82/100\n",
            "448/448 [==============================] - 33s 73ms/step - loss: 0.3968 - accuracy: 0.8525 - val_loss: 1.2453 - val_accuracy: 0.6634\n",
            "Epoch 83/100\n",
            "448/448 [==============================] - 33s 73ms/step - loss: 0.3893 - accuracy: 0.8557 - val_loss: 1.3104 - val_accuracy: 0.6721\n",
            "Epoch 84/100\n",
            "448/448 [==============================] - 33s 73ms/step - loss: 0.3825 - accuracy: 0.8581 - val_loss: 1.2928 - val_accuracy: 0.6648\n",
            "Epoch 85/100\n",
            "448/448 [==============================] - 33s 74ms/step - loss: 0.3920 - accuracy: 0.8561 - val_loss: 1.2568 - val_accuracy: 0.6634\n",
            "Epoch 86/100\n",
            "448/448 [==============================] - 33s 73ms/step - loss: 0.3773 - accuracy: 0.8592 - val_loss: 1.2800 - val_accuracy: 0.6695\n",
            "Epoch 87/100\n",
            "448/448 [==============================] - 33s 73ms/step - loss: 0.3724 - accuracy: 0.8605 - val_loss: 1.2456 - val_accuracy: 0.6707\n",
            "Epoch 88/100\n",
            "448/448 [==============================] - 32s 72ms/step - loss: 0.3663 - accuracy: 0.8632 - val_loss: 1.2846 - val_accuracy: 0.6701\n",
            "Epoch 89/100\n",
            "448/448 [==============================] - 33s 73ms/step - loss: 0.3531 - accuracy: 0.8682 - val_loss: 1.2956 - val_accuracy: 0.6799\n",
            "Epoch 90/100\n",
            "448/448 [==============================] - 33s 73ms/step - loss: 0.3549 - accuracy: 0.8676 - val_loss: 1.2544 - val_accuracy: 0.6768\n",
            "Epoch 91/100\n",
            "448/448 [==============================] - 33s 73ms/step - loss: 0.3453 - accuracy: 0.8732 - val_loss: 1.3143 - val_accuracy: 0.6704\n",
            "Epoch 92/100\n",
            "448/448 [==============================] - 33s 73ms/step - loss: 0.3380 - accuracy: 0.8751 - val_loss: 1.3283 - val_accuracy: 0.6609\n",
            "Epoch 93/100\n",
            "448/448 [==============================] - 33s 73ms/step - loss: 0.3348 - accuracy: 0.8791 - val_loss: 1.3164 - val_accuracy: 0.6785\n",
            "Epoch 94/100\n",
            "448/448 [==============================] - 33s 73ms/step - loss: 0.3347 - accuracy: 0.8793 - val_loss: 1.3319 - val_accuracy: 0.6776\n",
            "Epoch 95/100\n",
            "448/448 [==============================] - 33s 73ms/step - loss: 0.3252 - accuracy: 0.8801 - val_loss: 1.3359 - val_accuracy: 0.6679\n",
            "Epoch 96/100\n",
            "448/448 [==============================] - 33s 73ms/step - loss: 0.3236 - accuracy: 0.8812 - val_loss: 1.3357 - val_accuracy: 0.6704\n",
            "Epoch 97/100\n",
            "448/448 [==============================] - 33s 73ms/step - loss: 0.3162 - accuracy: 0.8833 - val_loss: 1.3096 - val_accuracy: 0.6824\n",
            "Epoch 98/100\n",
            "448/448 [==============================] - 33s 73ms/step - loss: 0.3113 - accuracy: 0.8848 - val_loss: 1.3887 - val_accuracy: 0.6835\n",
            "Epoch 99/100\n",
            "448/448 [==============================] - 33s 73ms/step - loss: 0.3049 - accuracy: 0.8880 - val_loss: 1.4277 - val_accuracy: 0.6732\n",
            "Epoch 100/100\n",
            "448/448 [==============================] - 33s 73ms/step - loss: 0.3033 - accuracy: 0.8902 - val_loss: 1.4624 - val_accuracy: 0.6723\n"
          ]
        }
      ]
    },
    {
      "cell_type": "code",
      "source": [
        "path=\"/content/drive/MyDrive/AVFED/\""
      ],
      "metadata": {
        "id": "7Ae9JVefWV2S"
      },
      "execution_count": null,
      "outputs": []
    },
    {
      "cell_type": "code",
      "source": [
        "model_json = model.to_json()\n",
        "with open(\"/content/drive/MyDrive/Face Emotion 1/model_03.json\", \"w\") as json_file:\n",
        "    json_file.write(model_json)\n",
        "model.save_weights(\"/content/drive/MyDrive/Face Emotion 1/model_03.h5\")\n",
        "print(\"Saved model to disk\")"
      ],
      "metadata": {
        "id": "_A7_uD1Ixr_2",
        "colab": {
          "base_uri": "https://localhost:8080/"
        },
        "outputId": "862baff9-d090-4581-b1bc-8fdbc163af34"
      },
      "execution_count": null,
      "outputs": [
        {
          "output_type": "stream",
          "name": "stdout",
          "text": [
            "Saved model to disk\n"
          ]
        }
      ]
    },
    {
      "cell_type": "code",
      "source": [
        "from google.colab import files\n",
        "files.download(\"model_03.h5\")"
      ],
      "metadata": {
        "colab": {
          "base_uri": "https://localhost:8080/",
          "height": 17
        },
        "id": "Od0h8MkVRhkZ",
        "outputId": "5eeacb70-7217-4c4b-a8ce-821e4918ee34"
      },
      "execution_count": null,
      "outputs": [
        {
          "output_type": "display_data",
          "data": {
            "text/plain": [
              "<IPython.core.display.Javascript object>"
            ],
            "application/javascript": [
              "\n",
              "    async function download(id, filename, size) {\n",
              "      if (!google.colab.kernel.accessAllowed) {\n",
              "        return;\n",
              "      }\n",
              "      const div = document.createElement('div');\n",
              "      const label = document.createElement('label');\n",
              "      label.textContent = `Downloading \"${filename}\": `;\n",
              "      div.appendChild(label);\n",
              "      const progress = document.createElement('progress');\n",
              "      progress.max = size;\n",
              "      div.appendChild(progress);\n",
              "      document.body.appendChild(div);\n",
              "\n",
              "      const buffers = [];\n",
              "      let downloaded = 0;\n",
              "\n",
              "      const channel = await google.colab.kernel.comms.open(id);\n",
              "      // Send a message to notify the kernel that we're ready.\n",
              "      channel.send({})\n",
              "\n",
              "      for await (const message of channel.messages) {\n",
              "        // Send a message to notify the kernel that we're ready.\n",
              "        channel.send({})\n",
              "        if (message.buffers) {\n",
              "          for (const buffer of message.buffers) {\n",
              "            buffers.push(buffer);\n",
              "            downloaded += buffer.byteLength;\n",
              "            progress.value = downloaded;\n",
              "          }\n",
              "        }\n",
              "      }\n",
              "      const blob = new Blob(buffers, {type: 'application/binary'});\n",
              "      const a = document.createElement('a');\n",
              "      a.href = window.URL.createObjectURL(blob);\n",
              "      a.download = filename;\n",
              "      div.appendChild(a);\n",
              "      a.click();\n",
              "      div.remove();\n",
              "    }\n",
              "  "
            ]
          },
          "metadata": {}
        },
        {
          "output_type": "display_data",
          "data": {
            "text/plain": [
              "<IPython.core.display.Javascript object>"
            ],
            "application/javascript": [
              "download(\"download_93480e22-c897-4a6d-b52e-bd13a1793c6c\", \"model_03.h5\", 52573112)"
            ]
          },
          "metadata": {}
        }
      ]
    },
    {
      "cell_type": "code",
      "source": [
        ""
      ],
      "metadata": {
        "id": "yeEfZVgeR5T9"
      },
      "execution_count": null,
      "outputs": []
    }
  ]
}